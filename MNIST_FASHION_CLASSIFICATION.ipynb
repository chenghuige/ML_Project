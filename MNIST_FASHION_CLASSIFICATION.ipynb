{
  "nbformat": 4,
  "nbformat_minor": 0,
  "metadata": {
    "colab": {
      "name": "MNIST-FASHION-CLASSIFICATION.ipynb",
      "provenance": [],
      "collapsed_sections": [],
      "authorship_tag": "ABX9TyMjEEVEyYYJwxEv0vGnM529",
      "include_colab_link": true
    },
    "kernelspec": {
      "name": "python3",
      "display_name": "Python 3"
    },
    "accelerator": "GPU"
  },
  "cells": [
    {
      "cell_type": "markdown",
      "metadata": {
        "id": "view-in-github",
        "colab_type": "text"
      },
      "source": [
        "<a href=\"https://colab.research.google.com/github/said-rasidin/ML_Project/blob/master/MNIST_FASHION_CLASSIFICATION.ipynb\" target=\"_parent\"><img src=\"https://colab.research.google.com/assets/colab-badge.svg\" alt=\"Open In Colab\"/></a>"
      ]
    },
    {
      "cell_type": "code",
      "metadata": {
        "id": "DS5XfQKfcMM3",
        "colab_type": "code",
        "colab": {
          "base_uri": "https://localhost:8080/",
          "height": 54
        },
        "outputId": "b12ceb30-5ede-4388-8a16-8ff62190791a"
      },
      "source": [
        "import tensorflow as tf\n",
        "from tensorflow import keras \n",
        "print(tf.__version__)\n",
        "print(keras.__version__)"
      ],
      "execution_count": 1,
      "outputs": [
        {
          "output_type": "stream",
          "text": [
            "2.2.0-rc2\n",
            "2.3.0-tf\n"
          ],
          "name": "stdout"
        }
      ]
    },
    {
      "cell_type": "code",
      "metadata": {
        "id": "D0hppWsYc7E2",
        "colab_type": "code",
        "colab": {
          "base_uri": "https://localhost:8080/",
          "height": 201
        },
        "outputId": "d6b57151-7ee7-4510-bdf6-93f422e3c97d"
      },
      "source": [
        "fashion_mnist = keras.datasets.fashion_mnist\n",
        "(X_train, y_train), (X_test, y_test) = fashion_mnist.load_data()\n",
        "print(X_train.shape)\n",
        "print(X_test.shape)"
      ],
      "execution_count": 2,
      "outputs": [
        {
          "output_type": "stream",
          "text": [
            "Downloading data from https://storage.googleapis.com/tensorflow/tf-keras-datasets/train-labels-idx1-ubyte.gz\n",
            "32768/29515 [=================================] - 0s 0us/step\n",
            "Downloading data from https://storage.googleapis.com/tensorflow/tf-keras-datasets/train-images-idx3-ubyte.gz\n",
            "26427392/26421880 [==============================] - 0s 0us/step\n",
            "Downloading data from https://storage.googleapis.com/tensorflow/tf-keras-datasets/t10k-labels-idx1-ubyte.gz\n",
            "8192/5148 [===============================================] - 0s 0us/step\n",
            "Downloading data from https://storage.googleapis.com/tensorflow/tf-keras-datasets/t10k-images-idx3-ubyte.gz\n",
            "4423680/4422102 [==============================] - 0s 0us/step\n",
            "(60000, 28, 28)\n",
            "(10000, 28, 28)\n"
          ],
          "name": "stdout"
        }
      ]
    },
    {
      "cell_type": "code",
      "metadata": {
        "id": "7Zz5lJahdaLd",
        "colab_type": "code",
        "colab": {}
      },
      "source": [
        "from sklearn.model_selection import train_test_split\n",
        "\n",
        "X_train, X_val, y_train, y_val = train_test_split(X_train, y_train, stratify=y_train, test_size=.2)\n",
        "X_train_norm = X_train / 255.0\n",
        "X_val_norm = X_val / 255.0"
      ],
      "execution_count": 0,
      "outputs": []
    },
    {
      "cell_type": "code",
      "metadata": {
        "id": "j_tPHbg_fbZd",
        "colab_type": "code",
        "colab": {
          "base_uri": "https://localhost:8080/",
          "height": 54
        },
        "outputId": "9dc0f650-724f-4e54-fd5a-dcc1b1cded98"
      },
      "source": [
        "print(X_train_norm.shape)\n",
        "print(X_val_norm.shape)"
      ],
      "execution_count": 5,
      "outputs": [
        {
          "output_type": "stream",
          "text": [
            "(48000, 28, 28)\n",
            "(12000, 28, 28)\n"
          ],
          "name": "stdout"
        }
      ]
    },
    {
      "cell_type": "code",
      "metadata": {
        "id": "7NPdAMcIfeYs",
        "colab_type": "code",
        "colab": {
          "base_uri": "https://localhost:8080/",
          "height": 35
        },
        "outputId": "3c073cb9-b23c-4b47-d531-9f4bd2ad27c1"
      },
      "source": [
        "class_names = [\"T-shirt/top\", \"Trouser\", \"Pullover\", \"Dress\", \"Coat\",\n",
        "\"Sandal\", \"Shirt\", \"Sneaker\", \"Bag\", \"Ankle boot\"]\n",
        "class_names[y_train[0]]"
      ],
      "execution_count": 7,
      "outputs": [
        {
          "output_type": "execute_result",
          "data": {
            "text/plain": [
              "'Ankle boot'"
            ]
          },
          "metadata": {
            "tags": []
          },
          "execution_count": 7
        }
      ]
    },
    {
      "cell_type": "markdown",
      "metadata": {
        "id": "MVCYCm1NgUb6",
        "colab_type": "text"
      },
      "source": [
        "# Model "
      ]
    },
    {
      "cell_type": "code",
      "metadata": {
        "id": "u68YEq1sfuZ6",
        "colab_type": "code",
        "colab": {}
      },
      "source": [
        "model = keras.models.Sequential()\n",
        "model.add(keras.layers.Flatten(input_shape=[28,28]))\n",
        "model.add(keras.layers.Dense(300, activation='relu'))\n",
        "model.add(keras.layers.Dense(100, activation='relu'))\n",
        "model.add(keras.layers.Dense(10, activation='softmax'))"
      ],
      "execution_count": 0,
      "outputs": []
    },
    {
      "cell_type": "code",
      "metadata": {
        "id": "jiT4WnncgWc5",
        "colab_type": "code",
        "colab": {
          "base_uri": "https://localhost:8080/",
          "height": 311
        },
        "outputId": "4b84c22e-1a68-4d01-a4d8-ba5f99feb671"
      },
      "source": [
        "model.summary()\n"
      ],
      "execution_count": 11,
      "outputs": [
        {
          "output_type": "stream",
          "text": [
            "Model: \"sequential_1\"\n",
            "_________________________________________________________________\n",
            "Layer (type)                 Output Shape              Param #   \n",
            "=================================================================\n",
            "flatten (Flatten)            (None, 784)               0         \n",
            "_________________________________________________________________\n",
            "dense (Dense)                (None, 300)               235500    \n",
            "_________________________________________________________________\n",
            "dense_1 (Dense)              (None, 100)               30100     \n",
            "_________________________________________________________________\n",
            "dense_2 (Dense)              (None, 10)                1010      \n",
            "=================================================================\n",
            "Total params: 266,610\n",
            "Trainable params: 266,610\n",
            "Non-trainable params: 0\n",
            "_________________________________________________________________\n"
          ],
          "name": "stdout"
        }
      ]
    },
    {
      "cell_type": "code",
      "metadata": {
        "id": "hJm_eCHVhVLX",
        "colab_type": "code",
        "colab": {
          "base_uri": "https://localhost:8080/",
          "height": 1000
        },
        "outputId": "d0b1c673-cf41-44f0-931e-b985de7a6fee"
      },
      "source": [
        "model.compile(loss='sparse_categorical_crossentropy', optimizer='adam', metrics=['accuracy'])\n",
        "history = model.fit(X_train_norm, y_train, epochs=50, validation_data=(X_val_norm, y_val))"
      ],
      "execution_count": 12,
      "outputs": [
        {
          "output_type": "stream",
          "text": [
            "Epoch 1/50\n",
            "1500/1500 [==============================] - 5s 3ms/step - loss: 0.4980 - accuracy: 0.8213 - val_loss: 0.4275 - val_accuracy: 0.8489\n",
            "Epoch 2/50\n",
            "1500/1500 [==============================] - 5s 3ms/step - loss: 0.3724 - accuracy: 0.8620 - val_loss: 0.4180 - val_accuracy: 0.8443\n",
            "Epoch 3/50\n",
            "1500/1500 [==============================] - 5s 3ms/step - loss: 0.3319 - accuracy: 0.8772 - val_loss: 0.3490 - val_accuracy: 0.8731\n",
            "Epoch 4/50\n",
            "1500/1500 [==============================] - 5s 3ms/step - loss: 0.3093 - accuracy: 0.8859 - val_loss: 0.3201 - val_accuracy: 0.8848\n",
            "Epoch 5/50\n",
            "1500/1500 [==============================] - 5s 3ms/step - loss: 0.2894 - accuracy: 0.8922 - val_loss: 0.3366 - val_accuracy: 0.8835\n",
            "Epoch 6/50\n",
            "1500/1500 [==============================] - 5s 3ms/step - loss: 0.2746 - accuracy: 0.8972 - val_loss: 0.3261 - val_accuracy: 0.8856\n",
            "Epoch 7/50\n",
            "1500/1500 [==============================] - 5s 3ms/step - loss: 0.2644 - accuracy: 0.9004 - val_loss: 0.3158 - val_accuracy: 0.8891\n",
            "Epoch 8/50\n",
            "1500/1500 [==============================] - 6s 4ms/step - loss: 0.2484 - accuracy: 0.9065 - val_loss: 0.3533 - val_accuracy: 0.8752\n",
            "Epoch 9/50\n",
            "1500/1500 [==============================] - 6s 4ms/step - loss: 0.2409 - accuracy: 0.9080 - val_loss: 0.3289 - val_accuracy: 0.8875\n",
            "Epoch 10/50\n",
            "1500/1500 [==============================] - 5s 3ms/step - loss: 0.2303 - accuracy: 0.9121 - val_loss: 0.3405 - val_accuracy: 0.8889\n",
            "Epoch 11/50\n",
            "1500/1500 [==============================] - 5s 3ms/step - loss: 0.2201 - accuracy: 0.9153 - val_loss: 0.3270 - val_accuracy: 0.8886\n",
            "Epoch 12/50\n",
            "1500/1500 [==============================] - 5s 3ms/step - loss: 0.2135 - accuracy: 0.9183 - val_loss: 0.3270 - val_accuracy: 0.8897\n",
            "Epoch 13/50\n",
            "1500/1500 [==============================] - 5s 3ms/step - loss: 0.2056 - accuracy: 0.9219 - val_loss: 0.3243 - val_accuracy: 0.8936\n",
            "Epoch 14/50\n",
            "1500/1500 [==============================] - 5s 3ms/step - loss: 0.2011 - accuracy: 0.9236 - val_loss: 0.3599 - val_accuracy: 0.8819\n",
            "Epoch 15/50\n",
            "1500/1500 [==============================] - 5s 3ms/step - loss: 0.1903 - accuracy: 0.9265 - val_loss: 0.3521 - val_accuracy: 0.8901\n",
            "Epoch 16/50\n",
            "1500/1500 [==============================] - 5s 3ms/step - loss: 0.1841 - accuracy: 0.9301 - val_loss: 0.3652 - val_accuracy: 0.8917\n",
            "Epoch 17/50\n",
            "1500/1500 [==============================] - 5s 4ms/step - loss: 0.1794 - accuracy: 0.9315 - val_loss: 0.3564 - val_accuracy: 0.8939\n",
            "Epoch 18/50\n",
            "1500/1500 [==============================] - 5s 4ms/step - loss: 0.1737 - accuracy: 0.9335 - val_loss: 0.3804 - val_accuracy: 0.8911\n",
            "Epoch 19/50\n",
            "1500/1500 [==============================] - 5s 4ms/step - loss: 0.1715 - accuracy: 0.9345 - val_loss: 0.4044 - val_accuracy: 0.8896\n",
            "Epoch 20/50\n",
            "1500/1500 [==============================] - 5s 4ms/step - loss: 0.1629 - accuracy: 0.9379 - val_loss: 0.3435 - val_accuracy: 0.8942\n",
            "Epoch 21/50\n",
            "1500/1500 [==============================] - 5s 4ms/step - loss: 0.1613 - accuracy: 0.9372 - val_loss: 0.3740 - val_accuracy: 0.8898\n",
            "Epoch 22/50\n",
            "1500/1500 [==============================] - 5s 4ms/step - loss: 0.1523 - accuracy: 0.9418 - val_loss: 0.4172 - val_accuracy: 0.8872\n",
            "Epoch 23/50\n",
            "1500/1500 [==============================] - 5s 3ms/step - loss: 0.1511 - accuracy: 0.9415 - val_loss: 0.3927 - val_accuracy: 0.8939\n",
            "Epoch 24/50\n",
            "1500/1500 [==============================] - 5s 3ms/step - loss: 0.1446 - accuracy: 0.9436 - val_loss: 0.4352 - val_accuracy: 0.8886\n",
            "Epoch 25/50\n",
            "1500/1500 [==============================] - 5s 3ms/step - loss: 0.1419 - accuracy: 0.9467 - val_loss: 0.3998 - val_accuracy: 0.8964\n",
            "Epoch 26/50\n",
            "1500/1500 [==============================] - 5s 3ms/step - loss: 0.1346 - accuracy: 0.9489 - val_loss: 0.4312 - val_accuracy: 0.8913\n",
            "Epoch 27/50\n",
            "1500/1500 [==============================] - 5s 3ms/step - loss: 0.1341 - accuracy: 0.9489 - val_loss: 0.4448 - val_accuracy: 0.8893\n",
            "Epoch 28/50\n",
            "1500/1500 [==============================] - 5s 3ms/step - loss: 0.1313 - accuracy: 0.9497 - val_loss: 0.4263 - val_accuracy: 0.8932\n",
            "Epoch 29/50\n",
            "1500/1500 [==============================] - 5s 3ms/step - loss: 0.1261 - accuracy: 0.9523 - val_loss: 0.4486 - val_accuracy: 0.8932\n",
            "Epoch 30/50\n",
            "1500/1500 [==============================] - 5s 3ms/step - loss: 0.1274 - accuracy: 0.9512 - val_loss: 0.4860 - val_accuracy: 0.8892\n",
            "Epoch 31/50\n",
            "1500/1500 [==============================] - 5s 3ms/step - loss: 0.1238 - accuracy: 0.9530 - val_loss: 0.4627 - val_accuracy: 0.8923\n",
            "Epoch 32/50\n",
            "1500/1500 [==============================] - 5s 3ms/step - loss: 0.1168 - accuracy: 0.9549 - val_loss: 0.4772 - val_accuracy: 0.8954\n",
            "Epoch 33/50\n",
            "1500/1500 [==============================] - 5s 3ms/step - loss: 0.1179 - accuracy: 0.9544 - val_loss: 0.4834 - val_accuracy: 0.8970\n",
            "Epoch 34/50\n",
            "1500/1500 [==============================] - 5s 3ms/step - loss: 0.1156 - accuracy: 0.9553 - val_loss: 0.4918 - val_accuracy: 0.8886\n",
            "Epoch 35/50\n",
            "1500/1500 [==============================] - 5s 4ms/step - loss: 0.1067 - accuracy: 0.9589 - val_loss: 0.4959 - val_accuracy: 0.8976\n",
            "Epoch 36/50\n",
            "1500/1500 [==============================] - 6s 4ms/step - loss: 0.1088 - accuracy: 0.9575 - val_loss: 0.4720 - val_accuracy: 0.8947\n",
            "Epoch 37/50\n",
            "1500/1500 [==============================] - 6s 4ms/step - loss: 0.1096 - accuracy: 0.9584 - val_loss: 0.4961 - val_accuracy: 0.8957\n",
            "Epoch 38/50\n",
            "1500/1500 [==============================] - 6s 4ms/step - loss: 0.1023 - accuracy: 0.9603 - val_loss: 0.5035 - val_accuracy: 0.8986\n",
            "Epoch 39/50\n",
            "1500/1500 [==============================] - 6s 4ms/step - loss: 0.1008 - accuracy: 0.9611 - val_loss: 0.5187 - val_accuracy: 0.8882\n",
            "Epoch 40/50\n",
            "1500/1500 [==============================] - 6s 4ms/step - loss: 0.0992 - accuracy: 0.9616 - val_loss: 0.4929 - val_accuracy: 0.8934\n",
            "Epoch 41/50\n",
            "1500/1500 [==============================] - 6s 4ms/step - loss: 0.0997 - accuracy: 0.9622 - val_loss: 0.5521 - val_accuracy: 0.8907\n",
            "Epoch 42/50\n",
            "1500/1500 [==============================] - 6s 4ms/step - loss: 0.0931 - accuracy: 0.9648 - val_loss: 0.5616 - val_accuracy: 0.8967\n",
            "Epoch 43/50\n",
            "1500/1500 [==============================] - 6s 4ms/step - loss: 0.0915 - accuracy: 0.9645 - val_loss: 0.5560 - val_accuracy: 0.8954\n",
            "Epoch 44/50\n",
            "1500/1500 [==============================] - 5s 4ms/step - loss: 0.0928 - accuracy: 0.9645 - val_loss: 0.5698 - val_accuracy: 0.8903\n",
            "Epoch 45/50\n",
            "1500/1500 [==============================] - 5s 4ms/step - loss: 0.0893 - accuracy: 0.9665 - val_loss: 0.5400 - val_accuracy: 0.8975\n",
            "Epoch 46/50\n",
            "1500/1500 [==============================] - 5s 3ms/step - loss: 0.0883 - accuracy: 0.9665 - val_loss: 0.5900 - val_accuracy: 0.8898\n",
            "Epoch 47/50\n",
            "1500/1500 [==============================] - 5s 3ms/step - loss: 0.0882 - accuracy: 0.9660 - val_loss: 0.6058 - val_accuracy: 0.8905\n",
            "Epoch 48/50\n",
            "1500/1500 [==============================] - 5s 3ms/step - loss: 0.0876 - accuracy: 0.9669 - val_loss: 0.6932 - val_accuracy: 0.8779\n",
            "Epoch 49/50\n",
            "1500/1500 [==============================] - 5s 3ms/step - loss: 0.0828 - accuracy: 0.9687 - val_loss: 0.6019 - val_accuracy: 0.8938\n",
            "Epoch 50/50\n",
            "1500/1500 [==============================] - 5s 3ms/step - loss: 0.0839 - accuracy: 0.9681 - val_loss: 0.5925 - val_accuracy: 0.8952\n"
          ],
          "name": "stdout"
        }
      ]
    },
    {
      "cell_type": "code",
      "metadata": {
        "id": "5WSyCPmBiWzj",
        "colab_type": "code",
        "colab": {
          "base_uri": "https://localhost:8080/",
          "height": 324
        },
        "outputId": "0b50e8a6-8f5f-408d-9722-669805997fe9"
      },
      "source": [
        "import pandas as pd\n",
        "import matplotlib.pyplot as plt\n",
        "\n",
        "pd.DataFrame(history.history).plot(figsize=(8, 5))\n",
        "plt.grid(True)\n",
        "plt.gca().set_ylim(0, 1) # set the vertical range to [0-1]\n",
        "plt.show()"
      ],
      "execution_count": 13,
      "outputs": [
        {
          "output_type": "display_data",
          "data": {
            "image/png": "[encoded data removed]",
            "text/plain": [
              "<Figure size 576x360 with 1 Axes>"
            ]
          },
          "metadata": {
            "tags": [],
            "needs_background": "light"
          }
        }
      ]
    },
    {
      "cell_type": "code",
      "metadata": {
        "id": "4wmEVH2pjYc6",
        "colab_type": "code",
        "colab": {
          "base_uri": "https://localhost:8080/",
          "height": 54
        },
        "outputId": "93b033c2-9e37-46fa-b385-19413371ead3"
      },
      "source": [
        "model.evaluate(X_test, y_test)"
      ],
      "execution_count": 14,
      "outputs": [
        {
          "output_type": "stream",
          "text": [
            "313/313 [==============================] - 1s 3ms/step - loss: 134.3891 - accuracy: 0.8663\n"
          ],
          "name": "stdout"
        },
        {
          "output_type": "execute_result",
          "data": {
            "text/plain": [
              "[134.3890838623047, 0.8662999868392944]"
            ]
          },
          "metadata": {
            "tags": []
          },
          "execution_count": 14
        }
      ]
    },
    {
      "cell_type": "code",
      "metadata": {
        "id": "JniQIQnCjucv",
        "colab_type": "code",
        "colab": {}
      },
      "source": [
        "from sklearn.metrics import confusion_matrix, classification_report\n",
        "\n",
        "X_test_norm = X_test / 255.0;\n",
        "y_test_predict = np.argmax(model.predict(X_test_norm), axis=-1)\n",
        "cm = confusion_matrix(y_test, y_test_predict)"
      ],
      "execution_count": 0,
      "outputs": []
    },
    {
      "cell_type": "code",
      "metadata": {
        "id": "zyUcbDsjqaU3",
        "colab_type": "code",
        "colab": {
          "base_uri": "https://localhost:8080/",
          "height": 428
        },
        "outputId": "006fab00-6840-44f2-8021-ba5a80dea6ef"
      },
      "source": [
        "import seaborn as sns\n",
        "\n",
        "df_cm = pd.DataFrame(cm, index = class_names,\n",
        "                  columns =  class_names)\n",
        "plt.figure(figsize = (10,7))\n",
        "sns.heatmap(df_cm, annot=True);"
      ],
      "execution_count": 48,
      "outputs": [
        {
          "output_type": "display_data",
          "data": {
            "image/png": "[encoded data removed]",
            "text/plain": [
              "<Figure size 720x504 with 2 Axes>"
            ]
          },
          "metadata": {
            "tags": [],
            "needs_background": "light"
          }
        }
      ]
    },
    {
      "cell_type": "code",
      "metadata": {
        "id": "u2YnjtH-k0Rb",
        "colab_type": "code",
        "colab": {
          "base_uri": "https://localhost:8080/",
          "height": 329
        },
        "outputId": "25d4ba67-670c-433c-dea8-821ae4fae2e2"
      },
      "source": [
        "print(classification_report(y_test, y_test_predict))"
      ],
      "execution_count": 49,
      "outputs": [
        {
          "output_type": "stream",
          "text": [
            "              precision    recall  f1-score   support\n",
            "\n",
            "           0       0.82      0.85      0.84      1000\n",
            "           1       0.99      0.98      0.98      1000\n",
            "           2       0.78      0.83      0.80      1000\n",
            "           3       0.90      0.89      0.90      1000\n",
            "           4       0.80      0.81      0.81      1000\n",
            "           5       0.98      0.98      0.98      1000\n",
            "           6       0.72      0.68      0.70      1000\n",
            "           7       0.96      0.96      0.96      1000\n",
            "           8       0.98      0.97      0.97      1000\n",
            "           9       0.96      0.96      0.96      1000\n",
            "\n",
            "    accuracy                           0.89     10000\n",
            "   macro avg       0.89      0.89      0.89     10000\n",
            "weighted avg       0.89      0.89      0.89     10000\n",
            "\n"
          ],
          "name": "stdout"
        }
      ]
    },
    {
      "cell_type": "code",
      "metadata": {
        "id": "mLgvHkaaqtAQ",
        "colab_type": "code",
        "colab": {}
      },
      "source": [
        "model.save(\"fashion-mnist-model.h5\")"
      ],
      "execution_count": 0,
      "outputs": []
    },
    {
      "cell_type": "code",
      "metadata": {
        "id": "5c0YewbErX9W",
        "colab_type": "code",
        "colab": {}
      },
      "source": [
        ""
      ],
      "execution_count": 0,
      "outputs": []
    }
  ]
}